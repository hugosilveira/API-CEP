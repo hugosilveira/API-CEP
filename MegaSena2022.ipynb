{
  "nbformat": 4,
  "nbformat_minor": 0,
  "metadata": {
    "colab": {
      "provenance": [],
      "authorship_tag": "ABX9TyNH9ZGTGmC6Y9D5Zk4OZiFi",
      "include_colab_link": true
    },
    "kernelspec": {
      "name": "python3",
      "display_name": "Python 3"
    },
    "language_info": {
      "name": "python"
    }
  },
  "cells": [
    {
      "cell_type": "markdown",
      "metadata": {
        "id": "view-in-github",
        "colab_type": "text"
      },
      "source": [
        "<a href=\"https://colab.research.google.com/github/hugosilveira/MegaSena20222/blob/main/MegaSena2022.ipynb\" target=\"_parent\"><img src=\"https://colab.research.google.com/assets/colab-badge.svg\" alt=\"Open In Colab\"/></a>"
      ]
    },
    {
      "cell_type": "code",
      "execution_count": 1,
      "metadata": {
        "colab": {
          "base_uri": "https://localhost:8080/"
        },
        "id": "3i1lSiqa92tx",
        "outputId": "04ba0f22-49ff-416c-e7ae-cfd15683880a"
      },
      "outputs": [
        {
          "output_type": "stream",
          "name": "stdout",
          "text": [
            "Quantos jogos você quer gerar? 5\n",
            "Foram gerados 5 jogos no arquivo bolao_da_familia_2022-12-26.txt. Verifique na pasta onde esse programa foi executado.\n",
            "\n",
            " Os jogos gerados foram :\n",
            "Aposta: 1 = 8, 16, 38, 48, 49, 53\n",
            "Aposta: 2 = 9, 14, 18, 19, 20, 37\n",
            "Aposta: 3 = 22, 34, 48, 49, 55, 60\n",
            "Aposta: 4 = 3, 24, 26, 27, 56, 59\n",
            "Aposta: 5 = 21, 28, 30, 40, 53, 56\n",
            "\n"
          ]
        }
      ],
      "source": [
        "import datetime\n",
        "import random\n",
        "import os\n",
        "\n",
        "class MegaSena:\n",
        "  def __init__(self,qtde_numeros=6, seed=None):\n",
        "      self.qtde_numeros = qtde_numeros\n",
        "      self.seed = seed\n",
        "      self.numeros = []\n",
        "\n",
        "  file = f'bolao_da_familia_{datetime.date.today()}.txt'\n",
        "\n",
        "\n",
        "  def gerar_numeros(self):\n",
        "    self.numeros = random.sample(range(1, 61), self.qtde_numeros) \n",
        "    self.numeros.sort()\n",
        "\n",
        "  def gerar_arquivo(self):\n",
        "      for i, seed in enumerate(range (1, self.seed)): \n",
        "        self.gerar_numeros()\n",
        "\n",
        "        try:                                  \n",
        "            with open(self.file, 'a') as arquivo:\n",
        "                arquivo.write(f'Aposta: {i + 1} = {str (self)}\\n')            \n",
        "            arquivo.close()\n",
        "            \n",
        "        except Exception as e:\n",
        "            print(e)\n",
        "      print (f'Foram gerados {jogos - 1} jogos no arquivo {self. file}. Verifique na pasta onde esse programa foi executado.') \n",
        "      \n",
        "      \n",
        "  def __str__ (self):\n",
        "      return ', '.join(map(str, self.numeros))\n",
        "  \n",
        "  def ler_jogos(self):\n",
        "      with open(MegaSena.file, \"r\") as arquivo:\n",
        "        texto1 = arquivo.read()\n",
        "        print(f'\\n Os jogos gerados foram :')\n",
        "        print(texto1)\n",
        "\n",
        "\n",
        "jogos = int(input ('Quantos jogos você quer gerar? ')) + 1\n",
        "MegaSenas = MegaSena (seed=jogos)\n",
        "MegaSenas.gerar_arquivo()\n",
        "MegaSenas.ler_jogos()\n",
        "\n",
        "\n",
        "\n",
        "\n"
      ]
    }
  ]
}